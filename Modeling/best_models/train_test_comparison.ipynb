{
 "cells": [
  {
   "cell_type": "code",
   "execution_count": 13,
   "id": "3293273f",
   "metadata": {},
   "outputs": [],
   "source": [
    "import pandas as pd\n",
    "import matplotlib.pyplot as plt \n",
    "from sklearn.metrics import get_scorer, make_scorer, precision_score, recall_score, f1_score, f1_score, confusion_matrix"
   ]
  },
  {
   "cell_type": "code",
   "execution_count": null,
   "id": "d4e0feeb",
   "metadata": {},
   "outputs": [],
   "source": [
    "def fnr(y_test, y_pred):\n",
    "    tn, fp, fn, tp = confusion_matrix(y_test, y_pred).ravel()\n",
    "    fnr = fn / (fn + tp)\n",
    "    return fnr\n",
    "\n",
    "scoring = {\n",
    "    'accuracy': 'accuracy',\n",
    "    'precision': make_scorer(precision_score, pos_label=1),\n",
    "    'recall': make_scorer(recall_score, pos_label=1),\n",
    "    'roc_auc': 'roc_auc',\n",
    "    'fnr': make_scorer(fnr),\n",
    "    'f1_macro': make_scorer(f1_score, average='macro', pos_label=1),\n",
    "    'f1_weighted': make_scorer(f1_score, average='weighted', pos_label=1)\n",
    "}"
   ]
  },
  {
   "cell_type": "code",
   "execution_count": 12,
   "id": "6c92f3e9",
   "metadata": {},
   "outputs": [],
   "source": [
    "train_metrics = pd.read_csv('results/logreg_metrics_train_results.csv')\n",
    "test_metrics = pd.read_csv('results/logreg_metrics_test_results.csv')\n",
    "\n",
    "merged = pd.merge(train_metrics, test_metrics, on='Antibiotic', suffixes=('_train', '_test'))\n"
   ]
  },
  {
   "cell_type": "code",
   "execution_count": 14,
   "id": "9237c4af",
   "metadata": {},
   "outputs": [
    {
     "ename": "NameError",
     "evalue": "name 'scoring' is not defined",
     "output_type": "error",
     "traceback": [
      "\u001b[31m---------------------------------------------------------------------------\u001b[39m",
      "\u001b[31mNameError\u001b[39m                                 Traceback (most recent call last)",
      "\u001b[36mCell\u001b[39m\u001b[36m \u001b[39m\u001b[32mIn[14]\u001b[39m\u001b[32m, line 1\u001b[39m\n\u001b[32m----> \u001b[39m\u001b[32m1\u001b[39m \u001b[38;5;28;01mfor\u001b[39;00m metric_name, scorer_key \u001b[38;5;129;01min\u001b[39;00m \u001b[43mscoring\u001b[49m.items():\n\u001b[32m      2\u001b[39m     scorer = get_scorer(scorer_key)\n\u001b[32m      3\u001b[39m     plt.figure(figsize=(\u001b[32m14\u001b[39m, \u001b[32m6\u001b[39m))\n",
      "\u001b[31mNameError\u001b[39m: name 'scoring' is not defined"
     ]
    }
   ],
   "source": [
    "for metric_name, scorer_key in scoring.items():\n",
    "    scorer = get_scorer(scorer_key)\n",
    "    plt.figure(figsize=(14, 6))\n",
    "    plt.bar(merged['Antibiotic'], merged[f'{metric_name}'], label=f'Training {metric_name}', alpha=0.2)\n",
    "    plt.bar(merged['Antibiotic'], merged[f'{metric_name}_pre'], label=f'Testing {metric_name}', alpha=0.2, color='red')\n",
    "    plt.bar(merged['Antibiotic'], merged[f'{metric_name}_post'], label=f'Calibration {metric_name}', alpha=0.2, color='orange')\n",
    "    plt.tick_params(axis='x', rotation=45)\n",
    "    plt.xlabel('Antibiotic')\n",
    "    plt.ylabel(f'{metric_name}')\n",
    "    plt.legend()\n",
    "    plt.show()\n",
    "    plt.savefig(os.path.join(filedir, f\"logreg_train_vs_test_{metric_name}.png\"), dpi=300)"
   ]
  },
  {
   "cell_type": "code",
   "execution_count": null,
   "id": "23064c45",
   "metadata": {},
   "outputs": [],
   "source": []
  }
 ],
 "metadata": {
  "kernelspec": {
   "display_name": "erdos_ds_environment",
   "language": "python",
   "name": "python3"
  },
  "language_info": {
   "codemirror_mode": {
    "name": "ipython",
    "version": 3
   },
   "file_extension": ".py",
   "mimetype": "text/x-python",
   "name": "python",
   "nbconvert_exporter": "python",
   "pygments_lexer": "ipython3",
   "version": "3.12.11"
  }
 },
 "nbformat": 4,
 "nbformat_minor": 5
}
