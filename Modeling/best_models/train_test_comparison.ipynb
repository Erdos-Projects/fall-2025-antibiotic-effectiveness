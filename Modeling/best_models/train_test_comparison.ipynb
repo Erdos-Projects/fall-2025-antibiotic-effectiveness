{
 "cells": [
  {
   "cell_type": "code",
   "execution_count": 13,
   "id": "9237c4af",
   "metadata": {},
   "outputs": [],
   "source": [
    "import pandas as pd\n",
    "import os\n",
    "import matplotlib.pyplot as plt \n",
    "from sklearn.metrics import get_scorer, make_scorer, precision_score, recall_score, f1_score, f1_score, confusion_matrix, average_precision_score\n",
    "\n",
    "def fnr(y_test, y_pred):\n",
    "    tn, fp, fn, tp = confusion_matrix(y_test, y_pred).ravel()\n",
    "    fnr = fn / (fn + tp)\n",
    "    return fnr\n",
    "\n",
    "scoring = {\n",
    "    'accuracy': 'accuracy',\n",
    "    'precision': make_scorer(precision_score, pos_label=1),\n",
    "    'recall': make_scorer(recall_score, pos_label=1),\n",
    "    'pr_auc': make_scorer(average_precision_score),\n",
    "    'fnr': make_scorer(fnr),\n",
    "    'f1_weighted': make_scorer(f1_score, average='weighted', pos_label=1)\n",
    "}\n",
    "\n",
    "train_metrics = pd.read_csv('logreg_results/logreg_metrics_train_results.csv')\n",
    "test_metrics = pd.read_csv('logreg_results/logreg_metrics_test_results.csv')\n",
    "\n",
    "merged = pd.merge(train_metrics, test_metrics, on='Antibiotic', suffixes=('_train', '_test'))\n",
    "\n",
    "for metric_name, scorer_key in scoring.items():\n",
    "    scorer = get_scorer(scorer_key)\n",
    "    plt.figure(figsize=(14, 6))\n",
    "    plt.bar(merged['Antibiotic'], merged[f'{metric_name}'], label=f'Training {metric_name}', alpha=0.2)\n",
    "    plt.bar(merged['Antibiotic'], merged[f'{metric_name}_pre'], label=f'Testing {metric_name}', alpha=0.2, color='red')\n",
    "    plt.bar(merged['Antibiotic'], merged[f'{metric_name}_post'], label=f'Calibration {metric_name}', alpha=0.2, color='orange')\n",
    "    plt.tick_params(axis='x', rotation=45)\n",
    "    plt.ylim(0.0, 0.9)\n",
    "    plt.xlabel('Antibiotics', fontsize=16)\n",
    "    plt.ylabel(f'{metric_name}', fontsize=16)\n",
    "    plt.legend(loc='upper left')\n",
    "    plt.tight_layout()\n",
    "    output_dir = 'logreg_results/'\n",
    "    plt.savefig(os.path.join(output_dir, f\"logreg_train_vs_test_{metric_name}.png\"))\n",
    "    plt.close()\n",
    "\n"
   ]
  },
  {
   "cell_type": "code",
   "execution_count": null,
   "id": "cb1d4800",
   "metadata": {},
   "outputs": [],
   "source": []
  }
 ],
 "metadata": {
  "kernelspec": {
   "display_name": "erdos_ds_environment",
   "language": "python",
   "name": "python3"
  },
  "language_info": {
   "codemirror_mode": {
    "name": "ipython",
    "version": 3
   },
   "file_extension": ".py",
   "mimetype": "text/x-python",
   "name": "python",
   "nbconvert_exporter": "python",
   "pygments_lexer": "ipython3",
   "version": "3.12.11"
  }
 },
 "nbformat": 4,
 "nbformat_minor": 5
}
